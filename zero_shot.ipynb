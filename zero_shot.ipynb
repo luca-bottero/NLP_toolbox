{
 "cells": [
  {
   "cell_type": "code",
   "execution_count": 1,
   "metadata": {},
   "outputs": [
    {
     "name": "stderr",
     "output_type": "stream",
     "text": [
      "2022-07-10 17:37:12.759797: W tensorflow/stream_executor/platform/default/dso_loader.cc:64] Could not load dynamic library 'libcudart.so.11.0'; dlerror: libcudart.so.11.0: cannot open shared object file: No such file or directory; LD_LIBRARY_PATH: /home/luca/root/lib\n",
      "2022-07-10 17:37:12.759828: I tensorflow/stream_executor/cuda/cudart_stub.cc:29] Ignore above cudart dlerror if you do not have a GPU set up on your machine.\n"
     ]
    }
   ],
   "source": [
    "from transformers import pipeline\n",
    "classifier = pipeline(\"zero-shot-classification\",\n",
    "                      model=\"facebook/bart-large-mnli\")\n"
   ]
  },
  {
   "cell_type": "code",
   "execution_count": 2,
   "metadata": {},
   "outputs": [
    {
     "name": "stdout",
     "output_type": "stream",
     "text": [
      "travel 0.9834707975387573\n",
      "exploration 0.942522406578064\n",
      "charting 0.8625631928443909\n",
      "exploration and exploitment 0.7601708173751831\n",
      "colonization 0.7059652805328369\n",
      "dancing 0.001483581610955298\n",
      "cooking 0.0004217950045131147\n"
     ]
    }
   ],
   "source": [
    "sequence_to_classify = \"one day I will see the world and map it. I will then prepare an expedition and settle a community on the river\"\n",
    "candidate_labels = ['travel', 'cooking', 'dancing', 'exploration', 'charting', 'colonization', 'exploration and exploitment']\n",
    "\n",
    "res = classifier(sequence_to_classify, candidate_labels, multi_label=True)\n",
    "for l,s in zip(res['labels'], res['scores']):\n",
    "    print(l,s)"
   ]
  },
  {
   "cell_type": "code",
   "execution_count": 3,
   "metadata": {},
   "outputs": [
    {
     "name": "stdout",
     "output_type": "stream",
     "text": [
      "avventura in luoghi pericolosi 0.8686206340789795\n",
      "exploration 0.790638267993927\n",
      "esponenziale 0.7895927429199219\n",
      "torrido 0.7794948220252991\n",
      "travel 0.7005898356437683\n",
      "exploration and exploitment 0.6594582796096802\n",
      "esplorazione 0.21391159296035767\n",
      "tropicale 0.17358934879302979\n",
      "pace 0.1720942258834839\n",
      "charting 0.15718649327754974\n",
      "cooking 0.10888125002384186\n",
      "colonization 0.05049264430999756\n",
      "caimano 0.033127132803201675\n",
      "dancing 0.027317535132169724\n",
      "coccodrillo 0.009583888575434685\n",
      "piranha 0.004726335406303406\n"
     ]
    }
   ],
   "source": [
    "sequence_to_classify = '''Il fiume scorreva lento nella giungla dell'isola di Giava. Il calore insopportabile rendeva desiderabile un tuffo veloce\n",
    "nell'acqua color marrone che circondava la lunghissima zattera su cui si trovava. Il senso di mistero di tale luogo desolato (seppure ricchissimo di vita) era\n",
    "ciò che li aveva spinti così a fondo nella foresta.'''\n",
    "candidate_labels = ['travel', 'cooking', 'dancing', 'exploration', 'charting', \n",
    "                        'colonization', 'exploration and exploitment', 'esplorazione', 'tropicale', 'torrido', 'pace', 'coccodrillo', 'caimano',\n",
    "                        'piranha', 'esponenziale', 'avventura in luoghi pericolosi']\n",
    "\n",
    "res = classifier(sequence_to_classify, candidate_labels, multi_label=True)\n",
    "for l,s in zip(res['labels'], res['scores']):\n",
    "    print(l,s)"
   ]
  },
  {
   "cell_type": "code",
   "execution_count": 4,
   "metadata": {},
   "outputs": [
    {
     "name": "stdout",
     "output_type": "stream",
     "text": [
      "A star is an astronomical object comprising a luminous spheroid of plasma held together by its gravity. The nearest star to Earth is the Sun. \n",
      "            Many other stars are visible to the naked eye at night, but their immense distances from Earth make them appear as fixed points of light.  0.15843404829502106\n",
      "A planet is a large, rounded astronomical body that is neither a star nor a stellar remnant. According to the best available theory, \n",
      "            planets form when a nebula collapses to create a protostar and a surrounding protoplanetary disk, in which planets grow by the process of accretion. 0.11152461171150208\n"
     ]
    }
   ],
   "source": [
    "planet = '''A planet is a large, rounded astronomical body that is neither a star nor a stellar remnant. According to the best available theory, \n",
    "            planets form when a nebula collapses to create a protostar and a surrounding protoplanetary disk, in which planets grow by the process of accretion.'''\n",
    "\n",
    "star = '''A star is an astronomical object comprising a luminous spheroid of plasma held together by its gravity. The nearest star to Earth is the Sun. \n",
    "            Many other stars are visible to the naked eye at night, but their immense distances from Earth make them appear as fixed points of light. '''\n",
    "\n",
    "alpha_cigni_var = '''The pulsations of Alpha Cygni Variable stars are not fully understood. They are not confined to a narrow range of temperatures and \n",
    "                    luminosities in the way that most pulsating stars are. Instead, most luminous A and B supergiants, and possibly also O and F stars, \n",
    "                    show some type of unpredictable small-scale pulsations'''\n",
    "\n",
    "\n",
    "candidate_labels = [planet, star]\n",
    "\n",
    "res = classifier(alpha_cigni_var, candidate_labels, multi_label=True)\n",
    "for l,s in zip(res['labels'], res['scores']):\n",
    "    print(l,s)"
   ]
  },
  {
   "cell_type": "code",
   "execution_count": null,
   "metadata": {},
   "outputs": [],
   "source": []
  }
 ],
 "metadata": {
  "kernelspec": {
   "display_name": "Python 3.8.10 64-bit",
   "language": "python",
   "name": "python3"
  },
  "language_info": {
   "codemirror_mode": {
    "name": "ipython",
    "version": 3
   },
   "file_extension": ".py",
   "mimetype": "text/x-python",
   "name": "python",
   "nbconvert_exporter": "python",
   "pygments_lexer": "ipython3",
   "version": "3.8.10"
  },
  "orig_nbformat": 4,
  "vscode": {
   "interpreter": {
    "hash": "31f2aee4e71d21fbe5cf8b01ff0e069b9275f58929596ceb00d14d90e3e16cd6"
   }
  }
 },
 "nbformat": 4,
 "nbformat_minor": 2
}
