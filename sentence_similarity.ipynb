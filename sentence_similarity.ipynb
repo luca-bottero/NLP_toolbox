{
 "cells": [
  {
   "cell_type": "code",
   "execution_count": 7,
   "metadata": {},
   "outputs": [
    {
     "name": "stdout",
     "output_type": "stream",
     "text": [
      "0 0 tensor([[0.8005]])\n",
      "0 1 tensor([[0.6530]])\n",
      "0 2 tensor([[0.6054]])\n",
      "0 3 tensor([[0.3590]])\n",
      "0 4 tensor([[0.1568]])\n",
      "1 1 tensor([[0.7761]])\n",
      "1 2 tensor([[0.4795]])\n",
      "1 3 tensor([[0.3405]])\n",
      "1 4 tensor([[0.1285]])\n",
      "2 2 tensor([[0.7668]])\n",
      "2 3 tensor([[0.2971]])\n",
      "2 4 tensor([[0.1497]])\n",
      "3 3 tensor([[0.7317]])\n",
      "3 4 tensor([[0.1433]])\n",
      "4 4 tensor([[0.9390]])\n"
     ]
    }
   ],
   "source": [
    "from sentence_transformers import SentenceTransformer, util\n",
    "sentences = [\"il mio nome è luca\", \"mi chiamo luca\", \"il mio nome di battesimo è luca\", \"all'anagrafe sono luca\", \"questo vino è molto buono\"]\n",
    "\n",
    "model = SentenceTransformer('sentence-transformers/distiluse-base-multilingual-cased-v1')\n",
    "embeddings = model.encode(sentences)\n",
    "\n",
    "\n",
    "\n",
    "for i,e in enumerate(embeddings):\n",
    "    for j,em in enumerate(embeddings[i:]):\n",
    "        print(i,j+i,util.dot_score(e,em))"
   ]
  },
  {
   "cell_type": "code",
   "execution_count": null,
   "metadata": {},
   "outputs": [],
   "source": []
  }
 ],
 "metadata": {
  "kernelspec": {
   "display_name": "Python 3.8.10 64-bit",
   "language": "python",
   "name": "python3"
  },
  "language_info": {
   "codemirror_mode": {
    "name": "ipython",
    "version": 3
   },
   "file_extension": ".py",
   "mimetype": "text/x-python",
   "name": "python",
   "nbconvert_exporter": "python",
   "pygments_lexer": "ipython3",
   "version": "3.8.10"
  },
  "orig_nbformat": 4,
  "vscode": {
   "interpreter": {
    "hash": "31f2aee4e71d21fbe5cf8b01ff0e069b9275f58929596ceb00d14d90e3e16cd6"
   }
  }
 },
 "nbformat": 4,
 "nbformat_minor": 2
}
